{
 "cells": [
  {
   "cell_type": "code",
   "execution_count": 13,
   "metadata": {},
   "outputs": [],
   "source": [
    "import pandas as pd\n",
    "import numpy as np\n",
    "import matplotlib.pyplot as plt\n",
    "import seaborn as sns\n",
    "import Analisa_Harga_Pangan_Jambi_2018_2019_Part_1_Data_Analysis as DA_I\n",
    "from scipy.stats import shapiro\n",
    "from scipy.stats import normaltest\n",
    "from scipy.stats import anderson\n",
    "from scipy.stats import ttest_ind\n",
    "from scipy.stats import wilcoxon"
   ]
  },
  {
   "cell_type": "markdown",
   "metadata": {},
   "source": [
    "Below is statistical test for harga pangan in jambi 2018 and 2019"
   ]
  },
  {
   "cell_type": "code",
   "execution_count": 14,
   "metadata": {},
   "outputs": [
    {
     "name": "stdout",
     "output_type": "stream",
     "text": [
      "Bawang Merah 2018 does not look Gaussian (reject H0)\n",
      "Bawang Merah 2019 does not look Gaussian (reject H0)\n",
      "Bawang Putih 2018 does not look Gaussian (reject H0)\n",
      "Bawang Putih 2019 does not look Gaussian (reject H0)\n",
      "Beras 2018 does not look Gaussian (reject H0)\n",
      "Beras 2019 does not look Gaussian (reject H0)\n",
      "Cabai Merah 2018 does not look Gaussian (reject H0)\n",
      "Cabai Merah 2019 does not look Gaussian (reject H0)\n",
      "Cabai Rawit 2018 does not look Gaussian (reject H0)\n",
      "Cabai Rawit 2019 does not look Gaussian (reject H0)\n",
      "Daging Ayam 2018 does not look Gaussian (reject H0)\n",
      "Daging Ayam 2019 does not look Gaussian (reject H0)\n",
      "Daging Sapi 2018 does not look Gaussian (reject H0)\n",
      "Daging Sapi 2019 does not look Gaussian (reject H0)\n",
      "Gula Pasir 2018 does not look Gaussian (reject H0)\n",
      "Gula Pasir 2019 does not look Gaussian (reject H0)\n",
      "Minyak Goreng 2018 does not look Gaussian (reject H0)\n",
      "Minyak Goreng 2019 does not look Gaussian (reject H0)\n",
      "Telur Ayam 2018 does not look Gaussian (reject H0)\n",
      "Telur Ayam 2019 does not look Gaussian (reject H0)\n"
     ]
    }
   ],
   "source": [
    "#Normality Test\n",
    "#1. Shapiro-Wilk Test\n",
    "H0 = 'The data is normally distributed'\n",
    "commodities = ['Bawang Merah', 'Bawang Putih', 'Beras', 'Cabai Merah',\n",
    "       'Cabai Rawit', 'Daging Ayam', 'Daging Sapi', 'Gula Pasir',\n",
    "       'Minyak Goreng', 'Telur Ayam']    \n",
    "def shapiro_wilk(data1, data2):\n",
    "    year_2018 = {}\n",
    "    year_2019 = {}\n",
    "    for i in commodities:\n",
    "        stat1, pval1 = shapiro(data1[i])\n",
    "        stat2, pval2 = shapiro(data2[i])\n",
    "        year_2018[i] = pval1\n",
    "        year_2019[i] = pval2\n",
    "    return year_2018, year_2019\n",
    "\n",
    "year_2018, year_2019 = shapiro_wilk(DA_I.all_df_pivot['2018'], DA_I.all_df_pivot['2019'])\n",
    "#for i in range(len(year_2018)):\n",
    "    #print('2018 {} pval is {:.16f}'.format(commodities[i], year_2018[commodities[i]]))\n",
    "    #print('2019 {} pval is {:.16f}'.format(commodities[i], year_2019[commodities[i]]))\n",
    "def result_1():\n",
    "    for i in range(len(year_2018)):\n",
    "        alpha = 0.05\n",
    "        if year_2018[commodities[i]] > alpha:\n",
    "            print(f'{commodities[i]} 2018 looks Gaussian (fail to reject H0)')\n",
    "        elif year_2018[commodities[i]] < alpha:\n",
    "            print(f'{commodities[i]} 2018 does not look Gaussian (reject H0)')\n",
    "        if year_2019[commodities[i]] > alpha:\n",
    "            print(f'{commodities[i]} 2019 looks Gaussian (fail to reject H0)')\n",
    "        elif year_2019[commodities[i]] < alpha:\n",
    "            print(f'{commodities[i]} 2019 does not look Gaussian (reject H0)')\n",
    "result_1()"
   ]
  },
  {
   "cell_type": "code",
   "execution_count": 15,
   "metadata": {},
   "outputs": [
    {
     "name": "stdout",
     "output_type": "stream",
     "text": [
      "Bawang Merah 2018 does not look Gaussian (reject H0)\n",
      "Bawang Merah 2019 does not look Gaussian (reject H0)\n",
      "Bawang Putih 2018 does not look Gaussian (reject H0)\n",
      "Bawang Putih 2019 does not look Gaussian (reject H0)\n",
      "Beras 2018 does not look Gaussian (reject H0)\n",
      "Beras 2019 does not look Gaussian (reject H0)\n",
      "Cabai Merah 2018 does not look Gaussian (reject H0)\n",
      "Cabai Merah 2019 does not look Gaussian (reject H0)\n",
      "Cabai Rawit 2018 does not look Gaussian (reject H0)\n",
      "Cabai Rawit 2019 does not look Gaussian (reject H0)\n",
      "Daging Ayam 2018 does not look Gaussian (reject H0)\n",
      "Daging Ayam 2019 does not look Gaussian (reject H0)\n",
      "Daging Sapi 2018 does not look Gaussian (reject H0)\n",
      "Daging Sapi 2019 does not look Gaussian (reject H0)\n",
      "Gula Pasir 2018 does not look Gaussian (reject H0)\n",
      "Gula Pasir 2019 does not look Gaussian (reject H0)\n",
      "Minyak Goreng 2018 does not look Gaussian (reject H0)\n",
      "Minyak Goreng 2019 looks Gaussian (fail to reject H0)\n",
      "Telur Ayam 2018 does not look Gaussian (reject H0)\n",
      "Telur Ayam 2019 does not look Gaussian (reject H0)\n"
     ]
    }
   ],
   "source": [
    "#2. D’Agostino’s K^2 Test\n",
    "H0 = 'The data is normally distributed'\n",
    "commodities = ['Bawang Merah', 'Bawang Putih', 'Beras', 'Cabai Merah',\n",
    "       'Cabai Rawit', 'Daging Ayam', 'Daging Sapi', 'Gula Pasir',\n",
    "       'Minyak Goreng', 'Telur Ayam']    \n",
    "def d_agnostino(data1, data2):\n",
    "    year_2018 = {}\n",
    "    year_2019 = {}\n",
    "    for i in commodities:\n",
    "        stat1, pval1 = normaltest(data1[i])\n",
    "        stat2, pval2 = normaltest(data2[i])\n",
    "        year_2018[i] = pval1\n",
    "        year_2019[i] = pval2\n",
    "    return year_2018, year_2019\n",
    "year_2018, year_2019 = d_agnostino(DA_I.all_df_pivot['2018'], DA_I.all_df_pivot['2019'])\n",
    "#for i in range(len(year_2018)):\n",
    "    #print('2018 {} pval is {:.16f}'.format(commodities[i], year_2018[commodities[i]]))\n",
    "    #print('2019 {} pval is {:.16f}'.format(commodities[i], year_2019[commodities[i]]))\n",
    "def result_2():\n",
    "    for i in range(len(year_2018)):\n",
    "        alpha = 0.05\n",
    "        if year_2018[commodities[i]] > alpha:\n",
    "            print(f'{commodities[i]} 2018 looks Gaussian (fail to reject H0)')\n",
    "        elif year_2018[commodities[i]] < alpha:\n",
    "            print(f'{commodities[i]} 2018 does not look Gaussian (reject H0)')\n",
    "        if year_2019[commodities[i]] > alpha:\n",
    "            print(f'{commodities[i]} 2019 looks Gaussian (fail to reject H0)')\n",
    "        elif year_2019[commodities[i]] < alpha:\n",
    "            print(f'{commodities[i]} 2019 does not look Gaussian (reject H0)')\n",
    "result_2()"
   ]
  },
  {
   "cell_type": "code",
   "execution_count": 16,
   "metadata": {},
   "outputs": [
    {
     "name": "stdout",
     "output_type": "stream",
     "text": [
      "2018 Bawang Merah pval is 2.5427523634477325\n",
      "2019 Bawang Merah pval is 2.4821375514224542\n",
      "2018 Bawang Putih pval is 13.0344893184739021\n",
      "2019 Bawang Putih pval is 22.5364710769370618\n",
      "2018 Beras pval is 34.6593863822857884\n",
      "2019 Beras pval is 46.1897570646841586\n",
      "2018 Cabai Merah pval is 8.5670399483525443\n",
      "2019 Cabai Merah pval is 11.6736581088414937\n",
      "2018 Cabai Rawit pval is 7.5681058063136675\n",
      "2019 Cabai Rawit pval is 9.5228909877038177\n",
      "2018 Daging Ayam pval is 2.9783876026578469\n",
      "2019 Daging Ayam pval is 1.6880249135198255\n",
      "2018 Daging Sapi pval is 29.5421752725004580\n",
      "2019 Daging Sapi pval is 71.3254236359061338\n",
      "2018 Gula Pasir pval is 32.1081588917014642\n",
      "2019 Gula Pasir pval is 25.5994434097725616\n",
      "2018 Minyak Goreng pval is 29.2557036246843722\n",
      "2019 Minyak Goreng pval is 7.4781928349343048\n",
      "2018 Telur Ayam pval is 6.6577633522496740\n",
      "2019 Telur Ayam pval is 6.5407468849379597\n"
     ]
    }
   ],
   "source": [
    "#3.Anderson-Darling Test\n",
    "H0 = 'The data is normally distributed'\n",
    "\"\"\"result = anderson(DA_2019.df_pivot['Cabai Merah'])\n",
    "print(result)\n",
    "print('Statistic: %.3f' % result.statistic)\n",
    "p = 0\n",
    "for i in range(len(result.critical_values)):\n",
    "    sl, cv = result.significance_level[i], result.critical_values[i]\n",
    "    if result.statistic < result.critical_values[i]:\n",
    "        print('%.3f: %.3f, data looks normal (fail to reject H0)' % (sl, cv))\n",
    "    else:\n",
    "        print('%.3f: %.3f, data does not look normal (reject H0)' % (sl, cv))\"\"\"\n",
    "commodities = ['Bawang Merah', 'Bawang Putih', 'Beras', 'Cabai Merah',\n",
    "       'Cabai Rawit', 'Daging Ayam', 'Daging Sapi', 'Gula Pasir',\n",
    "       'Minyak Goreng', 'Telur Ayam']    \n",
    "def anderson_darling(data1, data2):\n",
    "    year_2018 = {}\n",
    "    year_2019 = {}\n",
    "    for i in commodities:\n",
    "        pval1 = anderson(data1[i])\n",
    "        pval2 = anderson(data2[i])\n",
    "        year_2018[i] = pval1\n",
    "        year_2019[i] = pval2\n",
    "    return year_2018, year_2019\n",
    "year_2018, year_2019 = anderson_darling(DA_I.all_df_pivot['2018'], DA_I.all_df_pivot['2019'])\n",
    "for i in range(len(year_2018)):\n",
    "    print('2018 {} pval is {:.16f}'.format(commodities[i], year_2018[commodities[i]].statistic))\n",
    "    print('2019 {} pval is {:.16f}'.format(commodities[i], year_2019[commodities[i]].statistic))\n",
    "def result_3():\n",
    "    p = 0\n",
    "    for i in range(len(year_2018)):\n",
    "        for i in range(len(year_2018[commodities[i]].critical_values)):\n",
    "            sl, cv = result.significance_level[i], result.critical_values[i]\n",
    "            if year_2018[commodities[i]].statistic < year_2018[commodities[i]].critical_values[i]:\n",
    "                print(f'{commodities[i]} 2018 looks Gaussian (fail to reject H0)')\n",
    "            elif year_2018[commodities[i]].statistic > year_2018[commodities[i]].critical_values[i]:\n",
    "                print(f'{commodities[i]} 2018 does not look Gaussian (reject H0)')\n",
    "            if year_2019[commodities[i]].statistic < year_2019[commodities[i]].critical_values[i]:\n",
    "                print(f'{commodities[i]} 2019 looks Gaussian (fail to reject H0)')\n",
    "            elif year_2019[commodities[i]].statistic > year_2019[commodities[i]].critical_values[i]:\n",
    "                print(f'{commodities[i]} 2019 does not look Gaussian (reject H0)')\n",
    "#result_3()"
   ]
  },
  {
   "cell_type": "code",
   "execution_count": 17,
   "metadata": {
    "scrolled": true
   },
   "outputs": [
    {
     "name": "stdout",
     "output_type": "stream",
     "text": [
      "Statistics=5517.500, p=0.000\n",
      "Bawang Merah Different distribution (reject H0)\n",
      "Statistics=7397.500, p=0.000\n",
      "Bawang Putih Different distribution (reject H0)\n",
      "Statistics=0.000, p=0.000\n",
      "Beras Different distribution (reject H0)\n",
      "Statistics=14795.000, p=0.892\n",
      "Cabai Merah Same distribution (fail to reject H0)\n",
      "Statistics=14272.500, p=0.542\n",
      "Cabai Rawit Same distribution (fail to reject H0)\n",
      "Statistics=4472.500, p=0.000\n",
      "Daging Ayam Different distribution (reject H0)\n",
      "Statistics=820.000, p=0.000\n",
      "Daging Sapi Different distribution (reject H0)\n",
      "Statistics=14228.000, p=0.446\n",
      "Gula Pasir Same distribution (fail to reject H0)\n",
      "Statistics=294.000, p=0.000\n",
      "Minyak Goreng Different distribution (reject H0)\n",
      "Statistics=13878.000, p=0.666\n",
      "Telur Ayam Same distribution (fail to reject H0)\n"
     ]
    }
   ],
   "source": [
    "# all group of data shows that none of them is normally distributed\n",
    "#we are going to use non parametric test for hipotesis testing\n",
    "# wilcoxon signed rank test\n",
    "H0 = 'The sample distributions are equal'\n",
    "commodities = ['Bawang Merah', 'Bawang Putih', 'Beras', 'Cabai Merah',\n",
    "       'Cabai Rawit', 'Daging Ayam', 'Daging Sapi', 'Gula Pasir',\n",
    "       'Minyak Goreng', 'Telur Ayam']    \n",
    "for i in range(len(commodities)):\n",
    "    stat, p = wilcoxon(DA_I.all_df_pivot['2018'][commodities[i]], DA_I.all_df_pivot['2019'][commodities[i]][0:245])\n",
    "    print('Statistics={:.3f}, p={:.3f}'.format(stat, p))\n",
    "    alpha = 0.05\n",
    "    if p > alpha:\n",
    "        print(f'{commodities[i]} Same distribution (fail to reject H0)')\n",
    "    else:\n",
    "        print(f'{commodities[i]} Different distribution (reject H0)')\n",
    "    \n",
    "    "
   ]
  },
  {
   "cell_type": "markdown",
   "metadata": {},
   "source": [
    "initial analisis:\n",
    "    1. based on 3 normality test, every commodities data shows that they are not normally distributed or non gaussian\n",
    "    2. because of non gaussian data, we use wilcoxon signed rank test to compare if there is \n",
    "        any significance diffference between commodities in 2018 and 2019\n"
    "        \n",
    "    3. base on wilcoxon signed rank test, Bawang Merah, Bawang putih, Beras, Daging ayam, daging sapi,\n",
    "        Minyak Goreng has different distribution, it means that price of these commodities is significanly different in \n",
    "        2018 and 2019\n",
    "    4. although Bawang merah and bawang putih shows no significant different, both commodities price shows outliers \n",
    "        and several peaks in line plot and bar plot. \n",
    "        it means that both commodities price in 2018 and 2019 were abnormal during certain dates. \n",
    "        this further bring out question, does this abnormal price happen yearly? \n",
    "        what are the factors  weighing in on these prices?\n",
    "    5. further data analysisis and hipothesis testing needed"
   ]
  }
 ],
 "metadata": {
  "kernelspec": {
   "display_name": "Python 3",
   "language": "python",
   "name": "python3"
  },
  "language_info": {
   "codemirror_mode": {
    "name": "ipython",
    "version": 3
   },
   "file_extension": ".py",
   "mimetype": "text/x-python",
   "name": "python",
   "nbconvert_exporter": "python",
   "pygments_lexer": "ipython3",
   "version": "3.8.2"
  }
 },
 "nbformat": 4,
 "nbformat_minor": 4
}
